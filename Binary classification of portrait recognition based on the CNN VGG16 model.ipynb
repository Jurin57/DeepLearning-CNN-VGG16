{
  "nbformat": 4,
  "nbformat_minor": 0,
  "metadata": {
    "colab": {
      "provenance": [],
      "machine_shape": "hm",
      "gpuType": "V100"
    },
    "kernelspec": {
      "name": "python3",
      "display_name": "Python 3"
    },
    "language_info": {
      "name": "python"
    },
    "accelerator": "GPU"
  },
  "cells": [
    {
      "cell_type": "code",
      "execution_count": null,
      "metadata": {
        "id": "GgkQDF9duB1l"
      },
      "outputs": [],
      "source": [
        "import tensorflow as tf"
      ]
    },
    {
      "cell_type": "code",
      "source": [
        "import numpy as np\n",
        "import pandas as pd\n",
        "from tensorflow import keras\n",
        "from tensorflow.keras import layers\n",
        "from tensorflow.keras.layers import Input, Dense, Conv2D, SeparableConv2D, Rescaling, Flatten, Dropout, MaxPooling2D, GlobalAveragePooling2D, BatchNormalization, Activation, Add\n",
        "\n",
        "import matplotlib.pyplot as plt\n",
        "def plotEpoch( history, metric='acc'):\n",
        "    epochs = range(len(history['loss']))\n",
        "    if metric=='acc':\n",
        "        plt.plot(epochs, history['accuracy'], 'k', label='Training acc')\n",
        "        val = history['val_accuracy']\n",
        "        plt.plot(epochs, val, 'b', label='Validation acc')\n",
        "        plt.axvline(x=val.index(max(val)), color='r')\n",
        "        plt.title('Training and validation accuracy')\n",
        "        plt.legend()\n",
        "        plt.figure()\n",
        "    elif metric=='loss':\n",
        "        plt.plot(epochs, history['loss'], 'k', label='Training loss')\n",
        "        val = history['val_loss']\n",
        "        plt.plot(epochs, val, 'b', label='Validation loss')\n",
        "        plt.axvline(x=val.index(min(val)), color='r')\n",
        "        plt.title('Training and validation loss')\n",
        "        plt.legend()\n",
        "        plt.show()"
      ],
      "metadata": {
        "id": "_BRpPwVrunxc"
      },
      "execution_count": null,
      "outputs": []
    },
    {
      "cell_type": "code",
      "source": [
        "from google.colab import drive\n",
        "drive.mount('/content/drive/', force_remount=True)"
      ],
      "metadata": {
        "colab": {
          "base_uri": "https://localhost:8080/"
        },
        "id": "Fbs9Zgc_v5Ks",
        "outputId": "d746a39d-a5c1-4e34-f269-83c8c24dcb10"
      },
      "execution_count": null,
      "outputs": [
        {
          "output_type": "stream",
          "name": "stdout",
          "text": [
            "Mounted at /content/drive/\n"
          ]
        }
      ]
    },
    {
      "cell_type": "code",
      "source": [
        "#!tar -xf '/content/drive/MyDrive/Data/test/celeba00-04.tar.gz' -C '/content/drive/MyDrive/Data/test'"
      ],
      "metadata": {
        "id": "tvgNTWjKyAS8"
      },
      "execution_count": null,
      "outputs": []
    },
    {
      "cell_type": "code",
      "source": [
        "import os\n",
        "folder_path = '/content/drive/MyDrive/Data/test'\n",
        "\n",
        "items = os.listdir(folder_path)\n",
        "\n",
        "file_count = len([item for item in items if os.path.isfile(os.path.join(folder_path, item))])\n",
        "\n",
        "print(f'The folder contains {file_count} files.')\n"
      ],
      "metadata": {
        "id": "0ihiOoaP57Zp",
        "colab": {
          "base_uri": "https://localhost:8080/"
        },
        "outputId": "f60f4c0e-2186-4dba-9897-0edeeb1552f1"
      },
      "execution_count": null,
      "outputs": [
        {
          "output_type": "stream",
          "name": "stdout",
          "text": [
            "The folder contains 16967 files.\n"
          ]
        }
      ]
    },
    {
      "cell_type": "code",
      "source": [
        "attributes = pd.read_csv( '/content/drive/MyDrive/Data/list_attr_celeba.csv' )\n",
        "attributes.columns\n",
        "LABEL = \"Attractive\"\n",
        "attributes.head(10)[LABEL]\n",
        "raw_labels = attributes[LABEL].tolist()\n",
        "all_labels = [x if x == 1 else 0 for x in raw_labels]"
      ],
      "metadata": {
        "id": "fT8i9YKP3tlz"
      },
      "execution_count": null,
      "outputs": []
    },
    {
      "cell_type": "code",
      "source": [
        "batch_size = 64\n",
        "labels = all_labels[:16966]\n",
        "img_size = (178,218)"
      ],
      "metadata": {
        "id": "d6G_TM9P31m3"
      },
      "execution_count": null,
      "outputs": []
    },
    {
      "cell_type": "code",
      "source": [
        "seed = 123\n",
        "\n",
        "full_dataset = tf.keras.utils.image_dataset_from_directory(\n",
        "    '/content/drive/MyDrive/Data/test',\n",
        "    labels=labels,\n",
        "    batch_size=batch_size,\n",
        "    image_size=img_size,\n",
        "    shuffle=False,\n",
        "    seed=seed\n",
        ")\n",
        "\n",
        "\n",
        "total_size = len(full_dataset)\n",
        "train_size = int(0.8 * total_size)\n",
        "val_size = int(0.2 * total_size)\n",
        "test_size = total_size - train_size - val_size\n",
        "\n",
        "train_ds = full_dataset.take(train_size)\n",
        "remaining_ds = full_dataset.skip(train_size)\n",
        "val_ds = remaining_ds.take(val_size)\n",
        "test_ds = remaining_ds.skip(val_size)\n",
        "val_ds = val_ds.unbatch().batch(batch_size)\n",
        "test_ds = test_ds.unbatch().batch(batch_size)"
      ],
      "metadata": {
        "colab": {
          "base_uri": "https://localhost:8080/"
        },
        "id": "xLZ0fFx-3-oN",
        "outputId": "28c7e404-54d2-43e1-ade3-b048ddcb164f"
      },
      "execution_count": null,
      "outputs": [
        {
          "output_type": "stream",
          "name": "stdout",
          "text": [
            "Found 16966 files belonging to 2 classes.\n"
          ]
        }
      ]
    },
    {
      "cell_type": "code",
      "source": [
        "for data_batch, labels_batch in train_ds:\n",
        "  print(\"data batch shape:\", data_batch.shape)\n",
        "  print(\"labels batch shape:\", labels_batch.shape)\n",
        "  break"
      ],
      "metadata": {
        "colab": {
          "base_uri": "https://localhost:8080/"
        },
        "id": "Md6PgaV96XiS",
        "outputId": "159932e4-0207-4f81-da13-31400c0071cd"
      },
      "execution_count": null,
      "outputs": [
        {
          "output_type": "stream",
          "name": "stdout",
          "text": [
            "data batch shape: (64, 178, 218, 3)\n",
            "labels batch shape: (64,)\n"
          ]
        }
      ]
    },
    {
      "cell_type": "markdown",
      "source": [
        "data augmentation+ fine tunning"
      ],
      "metadata": {
        "id": "splKsHoHHvA7"
      }
    },
    {
      "cell_type": "code",
      "source": [
        "!pip install keras-tuner\n",
        "import keras_tuner as kt\n",
        "from keras_tuner import RandomSearch\n",
        "from keras_tuner.engine.hyperparameters import HyperParameters\n",
        "from tensorflow.keras.models import Sequential\n",
        "from tensorflow.keras.layers import Dense, Dropout, Flatten\n",
        "from tensorflow.keras import Model\n",
        "from tensorflow.keras.callbacks import EarlyStopping"
      ],
      "metadata": {
        "id": "ruf5kt--W5gr",
        "colab": {
          "base_uri": "https://localhost:8080/"
        },
        "outputId": "c6156247-c76a-4068-e515-1f5fd2c70d35"
      },
      "execution_count": null,
      "outputs": [
        {
          "output_type": "stream",
          "name": "stdout",
          "text": [
            "Requirement already satisfied: keras-tuner in /usr/local/lib/python3.10/dist-packages (1.4.6)\n",
            "Requirement already satisfied: keras in /usr/local/lib/python3.10/dist-packages (from keras-tuner) (2.15.0)\n",
            "Requirement already satisfied: packaging in /usr/local/lib/python3.10/dist-packages (from keras-tuner) (23.2)\n",
            "Requirement already satisfied: requests in /usr/local/lib/python3.10/dist-packages (from keras-tuner) (2.31.0)\n",
            "Requirement already satisfied: kt-legacy in /usr/local/lib/python3.10/dist-packages (from keras-tuner) (1.0.5)\n",
            "Requirement already satisfied: charset-normalizer<4,>=2 in /usr/local/lib/python3.10/dist-packages (from requests->keras-tuner) (3.3.2)\n",
            "Requirement already satisfied: idna<4,>=2.5 in /usr/local/lib/python3.10/dist-packages (from requests->keras-tuner) (3.6)\n",
            "Requirement already satisfied: urllib3<3,>=1.21.1 in /usr/local/lib/python3.10/dist-packages (from requests->keras-tuner) (2.0.7)\n",
            "Requirement already satisfied: certifi>=2017.4.17 in /usr/local/lib/python3.10/dist-packages (from requests->keras-tuner) (2024.2.2)\n"
          ]
        }
      ]
    },
    {
      "cell_type": "code",
      "source": [
        "def build_model(hp):\n",
        "    conv_base = keras.applications.vgg16.VGG16(weights=\"imagenet\", include_top=False)\n",
        "    conv_base.trainable = True\n",
        "    for layer in conv_base.layers[:-4]:\n",
        "        layer.trainable = False\n",
        "\n",
        "    data_augmentation = keras.Sequential([\n",
        "        keras.layers.RandomFlip(\"horizontal\"),\n",
        "        keras.layers.RandomRotation(0.1),\n",
        "        keras.layers.RandomZoom(0.2),\n",
        "    ])\n",
        "\n",
        "    inputs = Input(shape=(178, 218, 3))\n",
        "    x = data_augmentation(inputs)\n",
        "    x = keras.applications.vgg16.preprocess_input(x)\n",
        "    x = conv_base(x)\n",
        "    x = Flatten()(x)\n",
        "\n",
        "    for i in range(hp.Int('num_dense_layers', 1, 3)):\n",
        "        x = Dense(hp.Int(f'units_{i}', min_value=128, max_value=512, step=128), activation='relu')(x)\n",
        "        x = Dropout(hp.Float(f'dropout_{i}', min_value=0.3, max_value=0.7, step=0.1))(x)\n",
        "\n",
        "    outputs = Dense(1, activation=\"sigmoid\")(x)\n",
        "    model = Model(inputs, outputs)\n",
        "\n",
        "    model.compile(\n",
        "        loss=\"binary_crossentropy\",\n",
        "        optimizer=keras.optimizers.RMSprop(hp.Float('learning_rate', min_value=1e-5, max_value=1e-3, sampling='LOG')),\n",
        "        metrics=[\"accuracy\"]\n",
        "    )\n",
        "    return model"
      ],
      "metadata": {
        "id": "dS-2qvw5Owpw"
      },
      "execution_count": null,
      "outputs": []
    },
    {
      "cell_type": "code",
      "source": [
        "tuner = RandomSearch(\n",
        "    build_model,\n",
        "    objective='val_accuracy',\n",
        "    max_trials=10,\n",
        "    executions_per_trial=1,\n",
        "    directory='tuner_dir',\n",
        "    project_name='vgg16_fine_tuning'\n",
        ")\n",
        "\n",
        "tuner.search(train_ds, epochs=10, validation_data=val_ds)\n",
        "\n",
        "best_hps = tuner.get_best_hyperparameters(num_trials=1)[0]\n",
        "model1 = build_model(best_hps)\n"
      ],
      "metadata": {
        "colab": {
          "base_uri": "https://localhost:8080/"
        },
        "id": "m9Q2BjZlO2CG",
        "outputId": "47ec094d-7119-4b31-dac2-3213fcb88128"
      },
      "execution_count": null,
      "outputs": [
        {
          "output_type": "stream",
          "name": "stdout",
          "text": [
            "Trial 10 Complete [00h 06m 27s]\n",
            "val_accuracy: 0.5288461446762085\n",
            "\n",
            "Best val_accuracy So Far: 0.817307710647583\n",
            "Total elapsed time: 01h 19m 11s\n"
          ]
        }
      ]
    },
    {
      "cell_type": "code",
      "source": [
        "best_hps = tuner.get_best_hyperparameters(num_trials=1)[0]\n",
        "model1 = build_model(best_hps)\n",
        "model1.summary()"
      ],
      "metadata": {
        "colab": {
          "base_uri": "https://localhost:8080/"
        },
        "id": "DN8c1_GnQ8bj",
        "outputId": "71ae5d3c-efbc-4439-ecc1-e1f0e4df245c"
      },
      "execution_count": null,
      "outputs": [
        {
          "output_type": "stream",
          "name": "stdout",
          "text": [
            "Model: \"model_2\"\n",
            "_________________________________________________________________\n",
            " Layer (type)                Output Shape              Param #   \n",
            "=================================================================\n",
            " input_6 (InputLayer)        [(None, 178, 218, 3)]     0         \n",
            "                                                                 \n",
            " sequential_2 (Sequential)   (None, 178, 218, 3)       0         \n",
            "                                                                 \n",
            " tf.__operators__.getitem_2  (None, 178, 218, 3)       0         \n",
            "  (SlicingOpLambda)                                              \n",
            "                                                                 \n",
            " tf.nn.bias_add_2 (TFOpLamb  (None, 178, 218, 3)       0         \n",
            " da)                                                             \n",
            "                                                                 \n",
            " vgg16 (Functional)          (None, None, None, 512)   14714688  \n",
            "                                                                 \n",
            " flatten_2 (Flatten)         (None, 15360)             0         \n",
            "                                                                 \n",
            " dense_6 (Dense)             (None, 256)               3932416   \n",
            "                                                                 \n",
            " dropout_4 (Dropout)         (None, 256)               0         \n",
            "                                                                 \n",
            " dense_7 (Dense)             (None, 128)               32896     \n",
            "                                                                 \n",
            " dropout_5 (Dropout)         (None, 128)               0         \n",
            "                                                                 \n",
            " dense_8 (Dense)             (None, 1)                 129       \n",
            "                                                                 \n",
            "=================================================================\n",
            "Total params: 18680129 (71.26 MB)\n",
            "Trainable params: 11044865 (42.13 MB)\n",
            "Non-trainable params: 7635264 (29.13 MB)\n",
            "_________________________________________________________________\n"
          ]
        }
      ]
    },
    {
      "cell_type": "code",
      "source": [
        "history = model1.fit(train_ds, epochs=30, validation_data=val_ds)\n",
        "plotEpoch( history.history )"
      ],
      "metadata": {
        "colab": {
          "base_uri": "https://localhost:8080/"
        },
        "id": "_BMFDhwfSHaN",
        "outputId": "100de37d-26e9-46e7-d093-89a3672d8302"
      },
      "execution_count": null,
      "outputs": [
        {
          "output_type": "stream",
          "name": "stdout",
          "text": [
            "Epoch 1/30\n",
            "212/212 [==============================] - 42s 192ms/step - loss: 0.6684 - accuracy: 0.6545 - val_loss: 0.5939 - val_accuracy: 0.7698\n",
            "Epoch 2/30\n",
            "212/212 [==============================] - 41s 192ms/step - loss: 0.4989 - accuracy: 0.7702 - val_loss: 0.4601 - val_accuracy: 0.7966\n",
            "Epoch 3/30\n",
            "212/212 [==============================] - 40s 189ms/step - loss: 0.4614 - accuracy: 0.7860 - val_loss: 0.4509 - val_accuracy: 0.8031\n",
            "Epoch 4/30\n",
            "212/212 [==============================] - 41s 193ms/step - loss: 0.4437 - accuracy: 0.7936 - val_loss: 0.4400 - val_accuracy: 0.8057\n",
            "Epoch 5/30\n",
            "212/212 [==============================] - 41s 196ms/step - loss: 0.4266 - accuracy: 0.8036 - val_loss: 0.4310 - val_accuracy: 0.8101\n",
            "Epoch 6/30\n",
            "212/212 [==============================] - 40s 191ms/step - loss: 0.4198 - accuracy: 0.8097 - val_loss: 0.4934 - val_accuracy: 0.8051\n",
            "Epoch 7/30\n",
            "212/212 [==============================] - 41s 191ms/step - loss: 0.4112 - accuracy: 0.8120 - val_loss: 0.4222 - val_accuracy: 0.8122\n",
            "Epoch 8/30\n",
            "212/212 [==============================] - 40s 190ms/step - loss: 0.4013 - accuracy: 0.8184 - val_loss: 0.4241 - val_accuracy: 0.8134\n",
            "Epoch 9/30\n",
            "212/212 [==============================] - 40s 191ms/step - loss: 0.3971 - accuracy: 0.8161 - val_loss: 0.5403 - val_accuracy: 0.8134\n",
            "Epoch 10/30\n",
            "212/212 [==============================] - 40s 190ms/step - loss: 0.3898 - accuracy: 0.8247 - val_loss: 0.6530 - val_accuracy: 0.8096\n",
            "Epoch 11/30\n",
            "212/212 [==============================] - 40s 191ms/step - loss: 0.3908 - accuracy: 0.8283 - val_loss: 0.4661 - val_accuracy: 0.8098\n",
            "Epoch 12/30\n",
            "212/212 [==============================] - 40s 191ms/step - loss: 0.3899 - accuracy: 0.8283 - val_loss: 0.5629 - val_accuracy: 0.8001\n",
            "Epoch 13/30\n",
            "212/212 [==============================] - 40s 190ms/step - loss: 0.3725 - accuracy: 0.8315 - val_loss: 0.4677 - val_accuracy: 0.8119\n",
            "Epoch 14/30\n",
            "212/212 [==============================] - 40s 190ms/step - loss: 0.3726 - accuracy: 0.8361 - val_loss: 0.5313 - val_accuracy: 0.8075\n",
            "Epoch 15/30\n",
            "212/212 [==============================] - 40s 188ms/step - loss: 0.3584 - accuracy: 0.8404 - val_loss: 0.5732 - val_accuracy: 0.8042\n",
            "Epoch 16/30\n",
            "212/212 [==============================] - 40s 190ms/step - loss: 0.3763 - accuracy: 0.8438 - val_loss: 0.5110 - val_accuracy: 0.8081\n",
            "Epoch 17/30\n",
            "212/212 [==============================] - 40s 191ms/step - loss: 0.3522 - accuracy: 0.8468 - val_loss: 0.7434 - val_accuracy: 0.7842\n",
            "Epoch 18/30\n",
            "212/212 [==============================] - 41s 191ms/step - loss: 0.3434 - accuracy: 0.8477 - val_loss: 0.4947 - val_accuracy: 0.8154\n",
            "Epoch 19/30\n",
            "212/212 [==============================] - 40s 189ms/step - loss: 0.3354 - accuracy: 0.8516 - val_loss: 0.5425 - val_accuracy: 0.8090\n",
            "Epoch 20/30\n",
            "212/212 [==============================] - 41s 192ms/step - loss: 0.3268 - accuracy: 0.8573 - val_loss: 0.4543 - val_accuracy: 0.8054\n",
            "Epoch 21/30\n",
            "212/212 [==============================] - 41s 193ms/step - loss: 0.3178 - accuracy: 0.8623 - val_loss: 0.4945 - val_accuracy: 0.8084\n",
            "Epoch 22/30\n",
            "212/212 [==============================] - 41s 191ms/step - loss: 0.3118 - accuracy: 0.8653 - val_loss: 0.6061 - val_accuracy: 0.7998\n",
            "Epoch 23/30\n",
            "212/212 [==============================] - 41s 192ms/step - loss: 0.3047 - accuracy: 0.8711 - val_loss: 0.6716 - val_accuracy: 0.7836\n",
            "Epoch 24/30\n",
            "212/212 [==============================] - 40s 189ms/step - loss: 0.2978 - accuracy: 0.8735 - val_loss: 0.5971 - val_accuracy: 0.7786\n",
            "Epoch 25/30\n",
            "212/212 [==============================] - 40s 188ms/step - loss: 0.2900 - accuracy: 0.8768 - val_loss: 0.7379 - val_accuracy: 0.7930\n",
            "Epoch 26/30\n",
            "212/212 [==============================] - 40s 189ms/step - loss: 0.2840 - accuracy: 0.8807 - val_loss: 0.6912 - val_accuracy: 0.8028\n",
            "Epoch 27/30\n",
            "212/212 [==============================] - 40s 189ms/step - loss: 0.2794 - accuracy: 0.8835 - val_loss: 0.8797 - val_accuracy: 0.7721\n",
            "Epoch 28/30\n",
            "212/212 [==============================] - 40s 189ms/step - loss: 0.2676 - accuracy: 0.8877 - val_loss: 0.7283 - val_accuracy: 0.7889\n",
            "Epoch 29/30\n",
            "212/212 [==============================] - 40s 188ms/step - loss: 0.2685 - accuracy: 0.8922 - val_loss: 0.8879 - val_accuracy: 0.8075\n",
            "Epoch 30/30\n",
            "212/212 [==============================] - 40s 189ms/step - loss: 0.2550 - accuracy: 0.8963 - val_loss: 0.7074 - val_accuracy: 0.8040\n"
          ]
        }
      ]
    },
    {
      "cell_type": "code",
      "source": [
        "history = model.fit(train_ds, epochs=100, validation_data=val_ds)\n",
        "\n",
        "plotEpoch( history.history ) # val_accuracy: 0.8173"
      ],
      "metadata": {
        "colab": {
          "base_uri": "https://localhost:8080/",
          "height": 1000
        },
        "id": "wEBFpfEv6Q1V",
        "outputId": "4105c3bb-fbf9-4cd4-cd8b-951d07eba463"
      },
      "execution_count": null,
      "outputs": [
        {
          "output_type": "stream",
          "name": "stdout",
          "text": [
            "Epoch 1/100\n",
            "212/212 [==============================] - 38s 179ms/step - loss: 0.4113 - accuracy: 0.8132 - val_loss: 0.4322 - val_accuracy: 0.8155\n",
            "Epoch 2/100\n",
            "212/212 [==============================] - 38s 181ms/step - loss: 0.4053 - accuracy: 0.8202 - val_loss: 0.6930 - val_accuracy: 0.7963\n",
            "Epoch 3/100\n",
            "212/212 [==============================] - 38s 178ms/step - loss: 0.4078 - accuracy: 0.8164 - val_loss: 0.5056 - val_accuracy: 0.8173\n",
            "Epoch 4/100\n",
            "212/212 [==============================] - 38s 180ms/step - loss: 0.4037 - accuracy: 0.8167 - val_loss: 0.4540 - val_accuracy: 0.8173\n",
            "Epoch 5/100\n",
            "212/212 [==============================] - 37s 177ms/step - loss: 0.3932 - accuracy: 0.8224 - val_loss: 0.5329 - val_accuracy: 0.8209\n",
            "Epoch 6/100\n",
            "212/212 [==============================] - 38s 178ms/step - loss: 0.3905 - accuracy: 0.8262 - val_loss: 0.5016 - val_accuracy: 0.8095\n",
            "Epoch 7/100\n",
            "212/212 [==============================] - 37s 177ms/step - loss: 0.3879 - accuracy: 0.8311 - val_loss: 0.4424 - val_accuracy: 0.8149\n",
            "Epoch 8/100\n",
            "212/212 [==============================] - 38s 178ms/step - loss: 0.4098 - accuracy: 0.8303 - val_loss: 0.5108 - val_accuracy: 0.8137\n",
            "Epoch 9/100\n",
            "212/212 [==============================] - 38s 178ms/step - loss: 0.3751 - accuracy: 0.8352 - val_loss: 0.4828 - val_accuracy: 0.8077\n",
            "Epoch 10/100\n",
            "212/212 [==============================] - 38s 181ms/step - loss: 0.3690 - accuracy: 0.8339 - val_loss: 1.1483 - val_accuracy: 0.7782\n",
            "Epoch 11/100\n",
            "212/212 [==============================] - 38s 180ms/step - loss: 0.3703 - accuracy: 0.8392 - val_loss: 0.4879 - val_accuracy: 0.8071\n",
            "Epoch 12/100\n",
            "212/212 [==============================] - 38s 181ms/step - loss: 0.3603 - accuracy: 0.8409 - val_loss: 0.6045 - val_accuracy: 0.8125\n",
            "Epoch 13/100\n",
            "212/212 [==============================] - 38s 179ms/step - loss: 0.3611 - accuracy: 0.8454 - val_loss: 0.4868 - val_accuracy: 0.8125\n",
            "Epoch 14/100\n",
            "212/212 [==============================] - 38s 179ms/step - loss: 0.3510 - accuracy: 0.8466 - val_loss: 0.4818 - val_accuracy: 0.8125\n",
            "Epoch 15/100\n",
            "212/212 [==============================] - 38s 180ms/step - loss: 0.3471 - accuracy: 0.8510 - val_loss: 0.5428 - val_accuracy: 0.8089\n",
            "Epoch 16/100\n",
            "212/212 [==============================] - 37s 177ms/step - loss: 0.3381 - accuracy: 0.8551 - val_loss: 0.5803 - val_accuracy: 0.8227\n",
            "Epoch 17/100\n",
            "212/212 [==============================] - 38s 177ms/step - loss: 0.3354 - accuracy: 0.8563 - val_loss: 0.4875 - val_accuracy: 0.8161\n",
            "Epoch 18/100\n",
            "212/212 [==============================] - 38s 179ms/step - loss: 0.3402 - accuracy: 0.8561 - val_loss: 0.6298 - val_accuracy: 0.8053\n",
            "Epoch 19/100\n",
            "212/212 [==============================] - 37s 176ms/step - loss: 0.3261 - accuracy: 0.8640 - val_loss: 0.5190 - val_accuracy: 0.7999\n",
            "Epoch 20/100\n",
            "212/212 [==============================] - 37s 176ms/step - loss: 0.3200 - accuracy: 0.8619 - val_loss: 0.5761 - val_accuracy: 0.7999\n",
            "Epoch 21/100\n",
            "212/212 [==============================] - 37s 176ms/step - loss: 0.3163 - accuracy: 0.8617 - val_loss: 0.5594 - val_accuracy: 0.7999\n",
            "Epoch 22/100\n",
            "212/212 [==============================] - 37s 176ms/step - loss: 0.3130 - accuracy: 0.8669 - val_loss: 0.6692 - val_accuracy: 0.7963\n",
            "Epoch 23/100\n",
            "212/212 [==============================] - 37s 176ms/step - loss: 0.3165 - accuracy: 0.8694 - val_loss: 0.7820 - val_accuracy: 0.7915\n",
            "Epoch 24/100\n",
            "212/212 [==============================] - 37s 175ms/step - loss: 0.3037 - accuracy: 0.8716 - val_loss: 0.7005 - val_accuracy: 0.8059\n",
            "Epoch 25/100\n",
            "212/212 [==============================] - 37s 176ms/step - loss: 0.2995 - accuracy: 0.8704 - val_loss: 0.6271 - val_accuracy: 0.8011\n",
            "Epoch 26/100\n",
            "212/212 [==============================] - 37s 177ms/step - loss: 0.2909 - accuracy: 0.8769 - val_loss: 0.8387 - val_accuracy: 0.7999\n",
            "Epoch 27/100\n",
            "212/212 [==============================] - 37s 175ms/step - loss: 0.3015 - accuracy: 0.8798 - val_loss: 0.7708 - val_accuracy: 0.7903\n",
            "Epoch 28/100\n",
            "212/212 [==============================] - 38s 178ms/step - loss: 0.3025 - accuracy: 0.8767 - val_loss: 0.7090 - val_accuracy: 0.7981\n",
            "Epoch 29/100\n",
            "212/212 [==============================] - 37s 175ms/step - loss: 0.2849 - accuracy: 0.8805 - val_loss: 0.8647 - val_accuracy: 0.7867\n",
            "Epoch 30/100\n",
            "212/212 [==============================] - 37s 175ms/step - loss: 0.2748 - accuracy: 0.8869 - val_loss: 0.5830 - val_accuracy: 0.8023\n",
            "Epoch 31/100\n",
            "212/212 [==============================] - 37s 175ms/step - loss: 0.2694 - accuracy: 0.8880 - val_loss: 0.6579 - val_accuracy: 0.7963\n",
            "Epoch 32/100\n",
            "212/212 [==============================] - 37s 177ms/step - loss: 0.2925 - accuracy: 0.8926 - val_loss: 0.8188 - val_accuracy: 0.8023\n",
            "Epoch 33/100\n",
            "212/212 [==============================] - 38s 178ms/step - loss: 0.2576 - accuracy: 0.8961 - val_loss: 0.6951 - val_accuracy: 0.8065\n",
            "Epoch 34/100\n",
            "212/212 [==============================] - 38s 177ms/step - loss: 0.2447 - accuracy: 0.9030 - val_loss: 1.1651 - val_accuracy: 0.7680\n",
            "Epoch 35/100\n",
            "212/212 [==============================] - 37s 174ms/step - loss: 0.2559 - accuracy: 0.8990 - val_loss: 1.0116 - val_accuracy: 0.7867\n",
            "Epoch 36/100\n",
            "212/212 [==============================] - 37s 177ms/step - loss: 0.2442 - accuracy: 0.9030 - val_loss: 1.0809 - val_accuracy: 0.7734\n",
            "Epoch 37/100\n",
            "212/212 [==============================] - 37s 175ms/step - loss: 0.2453 - accuracy: 0.9032 - val_loss: 1.2268 - val_accuracy: 0.7812\n",
            "Epoch 38/100\n",
            "212/212 [==============================] - 37s 174ms/step - loss: 0.2291 - accuracy: 0.9082 - val_loss: 1.1262 - val_accuracy: 0.7897\n",
            "Epoch 39/100\n",
            "212/212 [==============================] - 37s 175ms/step - loss: 0.2344 - accuracy: 0.9090 - val_loss: 0.7556 - val_accuracy: 0.8023\n",
            "Epoch 40/100\n",
            "212/212 [==============================] - 38s 177ms/step - loss: 0.2229 - accuracy: 0.9068 - val_loss: 0.9012 - val_accuracy: 0.7819\n",
            "Epoch 41/100\n",
            "212/212 [==============================] - 38s 179ms/step - loss: 0.2213 - accuracy: 0.9130 - val_loss: 1.0288 - val_accuracy: 0.7915\n",
            "Epoch 42/100\n",
            "212/212 [==============================] - 38s 179ms/step - loss: 0.2158 - accuracy: 0.9172 - val_loss: 1.3732 - val_accuracy: 0.7903\n",
            "Epoch 43/100\n",
            "212/212 [==============================] - 37s 177ms/step - loss: 0.2210 - accuracy: 0.9177 - val_loss: 0.9823 - val_accuracy: 0.7536\n",
            "Epoch 44/100\n",
            "212/212 [==============================] - 37s 175ms/step - loss: 0.2238 - accuracy: 0.9147 - val_loss: 1.1563 - val_accuracy: 0.7867\n",
            "Epoch 45/100\n",
            "212/212 [==============================] - 38s 180ms/step - loss: 0.1948 - accuracy: 0.9208 - val_loss: 0.8174 - val_accuracy: 0.7812\n",
            "Epoch 46/100\n",
            "212/212 [==============================] - 37s 175ms/step - loss: 0.2108 - accuracy: 0.9221 - val_loss: 0.7437 - val_accuracy: 0.7867\n",
            "Epoch 47/100\n",
            "212/212 [==============================] - 37s 175ms/step - loss: 0.2064 - accuracy: 0.9205 - val_loss: 1.3189 - val_accuracy: 0.7680\n",
            "Epoch 48/100\n",
            "212/212 [==============================] - 37s 175ms/step - loss: 0.1971 - accuracy: 0.9211 - val_loss: 0.9654 - val_accuracy: 0.7800\n",
            "Epoch 49/100\n",
            "212/212 [==============================] - 37s 176ms/step - loss: 0.1912 - accuracy: 0.9270 - val_loss: 1.0163 - val_accuracy: 0.7909\n",
            "Epoch 50/100\n",
            "212/212 [==============================] - 37s 175ms/step - loss: 0.1867 - accuracy: 0.9277 - val_loss: 1.0855 - val_accuracy: 0.7740\n",
            "Epoch 51/100\n",
            "212/212 [==============================] - 37s 176ms/step - loss: 0.1884 - accuracy: 0.9343 - val_loss: 1.0714 - val_accuracy: 0.7812\n",
            "Epoch 52/100\n",
            "212/212 [==============================] - 37s 176ms/step - loss: 0.1715 - accuracy: 0.9332 - val_loss: 0.9528 - val_accuracy: 0.7903\n",
            "Epoch 53/100\n",
            "212/212 [==============================] - 38s 178ms/step - loss: 0.1763 - accuracy: 0.9319 - val_loss: 1.1303 - val_accuracy: 0.7806\n",
            "Epoch 54/100\n",
            "212/212 [==============================] - 38s 177ms/step - loss: 0.1675 - accuracy: 0.9349 - val_loss: 1.5993 - val_accuracy: 0.7770\n",
            "Epoch 55/100\n",
            "212/212 [==============================] - 37s 177ms/step - loss: 0.1698 - accuracy: 0.9379 - val_loss: 1.2015 - val_accuracy: 0.7879\n",
            "Epoch 56/100\n",
            "212/212 [==============================] - 38s 178ms/step - loss: 0.1605 - accuracy: 0.9402 - val_loss: 2.2395 - val_accuracy: 0.7656\n",
            "Epoch 57/100\n",
            "212/212 [==============================] - 37s 177ms/step - loss: 0.1647 - accuracy: 0.9392 - val_loss: 0.9972 - val_accuracy: 0.7945\n",
            "Epoch 58/100\n",
            "212/212 [==============================] - 38s 177ms/step - loss: 0.1683 - accuracy: 0.9390 - val_loss: 1.1785 - val_accuracy: 0.7897\n",
            "Epoch 59/100\n",
            "212/212 [==============================] - 37s 177ms/step - loss: 0.1685 - accuracy: 0.9406 - val_loss: 1.1802 - val_accuracy: 0.7782\n",
            "Epoch 60/100\n",
            "212/212 [==============================] - 38s 178ms/step - loss: 0.1557 - accuracy: 0.9424 - val_loss: 1.2150 - val_accuracy: 0.7812\n",
            "Epoch 61/100\n",
            "212/212 [==============================] - 37s 176ms/step - loss: 0.1470 - accuracy: 0.9437 - val_loss: 1.0107 - val_accuracy: 0.7861\n",
            "Epoch 62/100\n",
            "212/212 [==============================] - 38s 179ms/step - loss: 0.1697 - accuracy: 0.9441 - val_loss: 1.0725 - val_accuracy: 0.7662\n",
            "Epoch 63/100\n",
            "212/212 [==============================] - 38s 178ms/step - loss: 0.1462 - accuracy: 0.9462 - val_loss: 1.4882 - val_accuracy: 0.7656\n",
            "Epoch 64/100\n",
            "212/212 [==============================] - 38s 180ms/step - loss: 0.1456 - accuracy: 0.9466 - val_loss: 1.4708 - val_accuracy: 0.7891\n",
            "Epoch 65/100\n",
            "212/212 [==============================] - 38s 180ms/step - loss: 0.1395 - accuracy: 0.9490 - val_loss: 1.2277 - val_accuracy: 0.7861\n",
            "Epoch 66/100\n",
            "212/212 [==============================] - 38s 179ms/step - loss: 0.1507 - accuracy: 0.9452 - val_loss: 1.5244 - val_accuracy: 0.7885\n",
            "Epoch 67/100\n",
            "212/212 [==============================] - 38s 178ms/step - loss: 0.1382 - accuracy: 0.9535 - val_loss: 1.3985 - val_accuracy: 0.7368\n",
            "Epoch 68/100\n",
            "212/212 [==============================] - 38s 179ms/step - loss: 0.1358 - accuracy: 0.9480 - val_loss: 1.1440 - val_accuracy: 0.7800\n",
            "Epoch 69/100\n",
            "212/212 [==============================] - 38s 179ms/step - loss: 0.1358 - accuracy: 0.9494 - val_loss: 1.4281 - val_accuracy: 0.7764\n",
            "Epoch 70/100\n",
            "212/212 [==============================] - 38s 179ms/step - loss: 0.1317 - accuracy: 0.9505 - val_loss: 1.9245 - val_accuracy: 0.7752\n",
            "Epoch 71/100\n",
            "212/212 [==============================] - 37s 177ms/step - loss: 0.1280 - accuracy: 0.9541 - val_loss: 1.4072 - val_accuracy: 0.7855\n",
            "Epoch 72/100\n",
            "212/212 [==============================] - 38s 177ms/step - loss: 0.1283 - accuracy: 0.9503 - val_loss: 2.3929 - val_accuracy: 0.7650\n",
            "Epoch 73/100\n",
            "212/212 [==============================] - 38s 181ms/step - loss: 0.1284 - accuracy: 0.9515 - val_loss: 2.0989 - val_accuracy: 0.7566\n",
            "Epoch 74/100\n",
            "212/212 [==============================] - 37s 177ms/step - loss: 0.1261 - accuracy: 0.9539 - val_loss: 2.5676 - val_accuracy: 0.7825\n",
            "Epoch 75/100\n",
            "212/212 [==============================] - 37s 176ms/step - loss: 0.1256 - accuracy: 0.9539 - val_loss: 1.7804 - val_accuracy: 0.7927\n",
            "Epoch 76/100\n",
            "212/212 [==============================] - 38s 179ms/step - loss: 0.1236 - accuracy: 0.9544 - val_loss: 1.6598 - val_accuracy: 0.7806\n",
            "Epoch 77/100\n",
            "212/212 [==============================] - 38s 180ms/step - loss: 0.1330 - accuracy: 0.9565 - val_loss: 1.8456 - val_accuracy: 0.7921\n",
            "Epoch 78/100\n",
            "212/212 [==============================] - 38s 178ms/step - loss: 0.1214 - accuracy: 0.9562 - val_loss: 1.7049 - val_accuracy: 0.7728\n",
            "Epoch 79/100\n",
            "212/212 [==============================] - 38s 180ms/step - loss: 0.1300 - accuracy: 0.9530 - val_loss: 1.5085 - val_accuracy: 0.8023\n",
            "Epoch 80/100\n",
            "212/212 [==============================] - 38s 179ms/step - loss: 0.1168 - accuracy: 0.9589 - val_loss: 2.2387 - val_accuracy: 0.7680\n",
            "Epoch 81/100\n",
            "212/212 [==============================] - 38s 181ms/step - loss: 0.1223 - accuracy: 0.9564 - val_loss: 2.0363 - val_accuracy: 0.7867\n",
            "Epoch 82/100\n",
            "212/212 [==============================] - 38s 179ms/step - loss: 0.1099 - accuracy: 0.9609 - val_loss: 2.4612 - val_accuracy: 0.7656\n",
            "Epoch 83/100\n",
            "212/212 [==============================] - 38s 180ms/step - loss: 0.1232 - accuracy: 0.9571 - val_loss: 1.3887 - val_accuracy: 0.7915\n",
            "Epoch 84/100\n",
            "212/212 [==============================] - 38s 178ms/step - loss: 0.1366 - accuracy: 0.9588 - val_loss: 2.0336 - val_accuracy: 0.7680\n",
            "Epoch 85/100\n",
            "212/212 [==============================] - 37s 177ms/step - loss: 0.1120 - accuracy: 0.9613 - val_loss: 1.9698 - val_accuracy: 0.7770\n",
            "Epoch 86/100\n",
            "212/212 [==============================] - 39s 184ms/step - loss: 0.1102 - accuracy: 0.9620 - val_loss: 1.9542 - val_accuracy: 0.7861\n",
            "Epoch 87/100\n",
            "212/212 [==============================] - 38s 180ms/step - loss: 0.1060 - accuracy: 0.9601 - val_loss: 2.7111 - val_accuracy: 0.7764\n",
            "Epoch 88/100\n",
            "212/212 [==============================] - 38s 177ms/step - loss: 0.1075 - accuracy: 0.9620 - val_loss: 2.4593 - val_accuracy: 0.7921\n",
            "Epoch 89/100\n",
            "212/212 [==============================] - 38s 178ms/step - loss: 0.0999 - accuracy: 0.9666 - val_loss: 2.9152 - val_accuracy: 0.7566\n",
            "Epoch 90/100\n",
            "212/212 [==============================] - 39s 184ms/step - loss: 0.1080 - accuracy: 0.9622 - val_loss: 2.1715 - val_accuracy: 0.7909\n",
            "Epoch 91/100\n",
            "212/212 [==============================] - 38s 179ms/step - loss: 0.1048 - accuracy: 0.9642 - val_loss: 3.0796 - val_accuracy: 0.7764\n",
            "Epoch 92/100\n",
            "212/212 [==============================] - 38s 179ms/step - loss: 0.1065 - accuracy: 0.9638 - val_loss: 1.6265 - val_accuracy: 0.7897\n",
            "Epoch 93/100\n",
            "212/212 [==============================] - 38s 181ms/step - loss: 0.0958 - accuracy: 0.9673 - val_loss: 2.2500 - val_accuracy: 0.7812\n",
            "Epoch 94/100\n",
            "212/212 [==============================] - 38s 179ms/step - loss: 0.0964 - accuracy: 0.9657 - val_loss: 3.9540 - val_accuracy: 0.7512\n",
            "Epoch 95/100\n",
            "212/212 [==============================] - 38s 178ms/step - loss: 0.1030 - accuracy: 0.9659 - val_loss: 2.4727 - val_accuracy: 0.7626\n",
            "Epoch 96/100\n",
            "212/212 [==============================] - 38s 181ms/step - loss: 0.0979 - accuracy: 0.9688 - val_loss: 2.8202 - val_accuracy: 0.7776\n",
            "Epoch 97/100\n",
            "212/212 [==============================] - 38s 179ms/step - loss: 0.0936 - accuracy: 0.9676 - val_loss: 2.2365 - val_accuracy: 0.7788\n",
            "Epoch 98/100\n",
            "212/212 [==============================] - 38s 179ms/step - loss: 0.0937 - accuracy: 0.9700 - val_loss: 2.7273 - val_accuracy: 0.7861\n",
            "Epoch 99/100\n",
            "212/212 [==============================] - 38s 180ms/step - loss: 0.0889 - accuracy: 0.9701 - val_loss: 3.0971 - val_accuracy: 0.7752\n",
            "Epoch 100/100\n",
            "212/212 [==============================] - 38s 179ms/step - loss: 0.0859 - accuracy: 0.9701 - val_loss: 3.0531 - val_accuracy: 0.7710\n"
          ]
        },
        {
          "output_type": "display_data",
          "data": {
            "text/plain": [
              "<Figure size 640x480 with 1 Axes>"
            ],
            "image/png": "[encoded data removed]"
          },
          "metadata": {}
        },
        {
          "output_type": "display_data",
          "data": {
            "text/plain": [
              "<Figure size 640x480 with 0 Axes>"
            ]
          },
          "metadata": {}
        }
      ]
    }
  ]
}